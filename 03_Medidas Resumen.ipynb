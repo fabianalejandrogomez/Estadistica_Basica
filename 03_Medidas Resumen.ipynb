{
  "nbformat": 4,
  "nbformat_minor": 0,
  "metadata": {
    "colab": {
      "name": "01-Tablas-Variables.ipynb",
      "provenance": [],
      "collapsed_sections": []
    },
    "kernelspec": {
      "name": "python3",
      "display_name": "Python 3"
    }
  },
  "cells": [
    {
      "cell_type": "markdown",
      "metadata": {
        "id": "jeiBg_LTqTpb",
        "colab_type": "text"
      },
      "source": [
        "# Medidas resumen: de posición y de escala. Media, mediana, moda, rango, varianza muestral, cuartiles, distancia intercuartil. Outliers, interpretación y tratamiento"
      ]
    },
    {
      "cell_type": "code",
      "metadata": {
        "id": "vjX4oFQNqRFd",
        "colab_type": "code",
        "colab": {
          "base_uri": "https://localhost:8080/",
          "height": 34
        },
        "outputId": "41457617-970e-4bae-86b2-266be388d8b8"
      },
      "source": [
        "print(\"Hola\")"
      ],
      "execution_count": null,
      "outputs": [
        {
          "output_type": "stream",
          "text": [
            "Hola\n"
          ],
          "name": "stdout"
        }
      ]
    }
  ]
}
