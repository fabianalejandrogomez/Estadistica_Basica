{
  "nbformat": 4,
  "nbformat_minor": 0,
  "metadata": {
    "colab": {
      "name": "01-Tablas-Variables.ipynb",
      "provenance": [],
      "collapsed_sections": []
    },
    "kernelspec": {
      "name": "python3",
      "display_name": "Python 3"
    }
  },
  "cells": [
    {
      "cell_type": "markdown",
      "metadata": {
        "id": "jeiBg_LTqTpb",
        "colab_type": "text"
      },
      "source": [
        "# Medidas resumen: de posición y de escala. Media, mediana, moda, rango, varianza muestral, cuartiles, distancia intercuartil. Outliers, interpretación y tratamiento"
      ]
    },
    {
      "cell_type": "markdown",
      "metadata": {
        "id": "jyQDV25S5BF-",
        "colab_type": "text"
      },
      "source": [
        "Bibliografia:  WALPOLE /Volumes/PRINCIPAL/UNIVERSO/FABIAN/ESTUDIOS/Universidades/UBA - Maestria en Explotacion de Datos y Descubrimiento del Conocimiento /01-Curso de Nivelacion/Bibliografia/Walpole-Probabilidad_y_Estadistica_para_Ingenieria_y_Ciencias.pdf"
      ]
    },
    {
      "cell_type": "markdown",
      "metadata": {
        "id": "WXnjtJo77FJX",
        "colab_type": "text"
      },
      "source": [
        "Bibliografia: DEVORE \n",
        "/Volumes/PRINCIPAL/UNIVERSO/FABIAN/ESTUDIOS/Universidades/UBA - Maestria en Explotacion de Datos y Descubrimiento del Conocimiento /01-Curso de Nivelacion/Bibliografia/Devore, Jay - Probabilidad y Estadistica para Ingenieria y Ciencias - Septima Edicion.pdf"
      ]
    },
    {
      "cell_type": "markdown",
      "metadata": {
        "id": "L_oYHrsmDcYi",
        "colab_type": "text"
      },
      "source": [
        "\n",
        "\n",
        "${\\displaystyle A={\\frac {1}{n}}\\sum _{i=1}^{n}a_{i}={\\frac {a_{1}+a_{2}+\\cdots +a_{n}}{n}}}$\n",
        "\n"
      ]
    }
  ]
}