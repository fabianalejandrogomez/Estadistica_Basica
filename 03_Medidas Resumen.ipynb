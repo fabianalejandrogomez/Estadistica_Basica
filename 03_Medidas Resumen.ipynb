{
  "nbformat": 4,
  "nbformat_minor": 0,
  "metadata": {
    "colab": {
      "name": "01-Tablas-Variables.ipynb",
      "provenance": [],
      "collapsed_sections": []
    },
    "kernelspec": {
      "name": "python3",
      "display_name": "Python 3"
    }
  },
  "cells": [
    {
      "cell_type": "markdown",
      "metadata": {
        "id": "jeiBg_LTqTpb",
        "colab_type": "text"
      },
      "source": [
        "# Medidas resumen: de posición y de escala. Media, mediana, moda, rango, varianza muestral, cuartiles, distancia intercuartil. Outliers, interpretación y tratamiento"
      ]
    },
    {
      "cell_type": "markdown",
      "metadata": {
        "id": "jyQDV25S5BF-",
        "colab_type": "text"
      },
      "source": [
        "Bibliografia:  WALPOLE /Volumes/PRINCIPAL/UNIVERSO/FABIAN/ESTUDIOS/Universidades/UBA - Maestria en Explotacion de Datos y Descubrimiento del Conocimiento /01-Curso de Nivelacion/Bibliografia/Walpole-Probabilidad_y_Estadistica_para_Ingenieria_y_Ciencias.pdf"
      ]
    },
    {
      "cell_type": "markdown",
      "metadata": {
        "id": "WXnjtJo77FJX",
        "colab_type": "text"
      },
      "source": [
        "Bibliografia: DEVORE \n",
        "/Volumes/PRINCIPAL/UNIVERSO/FABIAN/ESTUDIOS/Universidades/UBA - Maestria en Explotacion de Datos y Descubrimiento del Conocimiento /01-Curso de Nivelacion/Bibliografia/Devore, Jay - Probabilidad y Estadistica para Ingenieria y Ciencias - Septima Edicion.pdf"
      ]
    },
    {
      "cell_type": "markdown",
      "metadata": {
        "id": "L_oYHrsmDcYi",
        "colab_type": "text"
      },
      "source": [
        "### La media\n",
        "Para un conjunto dado de números $x_{1}, x_{2}, . . . , x_{n}$, la medida central más conocida es la media o promedio aritmético del conjunto. \n",
        "Como casi siempre se pensará que los números $x_{i}$ constituyen una muestra, se hará referencia al promedio aritmético como la media muestral\n",
        "\n",
        "${\\displaystyle \\overline x=\\sum _{i=1}^{n}{\\frac {x_{i}}{n}}={\\frac {x_{1}+x_{2}+\\cdots +x_{n}}{n}}}$\n",
        "\n",
        "\n"
      ]
    },
    {
      "cell_type": "code",
      "metadata": {
        "id": "YSOnyB9Fk9BZ",
        "colab_type": "code",
        "colab": {
          "base_uri": "https://localhost:8080/",
          "height": 34
        },
        "outputId": "c1d634f5-2ee8-4d37-ceea-3152d76ec739"
      },
      "source": [
        "x1 = 4\n",
        "x2 = 6\n",
        "x3 = 6\n",
        "media = (x1 + x2 + x3)/3\n",
        "print(media)"
      ],
      "execution_count": null,
      "outputs": [
        {
          "output_type": "stream",
          "text": [
            "5.333333333333333\n"
          ],
          "name": "stdout"
        }
      ]
    },
    {
      "cell_type": "code",
      "metadata": {
        "id": "OkshVuueJ6x3",
        "colab_type": "code",
        "colab": {
          "base_uri": "https://localhost:8080/",
          "height": 578
        },
        "outputId": "52c89601-3c23-47c9-d662-4aee9aa8156a"
      },
      "source": [
        "'''Utilizando Pandas'''\n",
        "\n",
        "import pandas as pd\n",
        "\n",
        "url = 'https://raw.githubusercontent.com/fabianalejandrogomez/Estadistica_Basica/master/datos.csv'\n",
        "df = pd.read_csv(url)\n",
        "\n",
        "media = df[\"nota\"].mean()\n",
        "mediana = df[\"nota\"].median()\n",
        "moda = df[\"nota\"].mode()\n",
        "print(media)\n",
        "print(mediana)\n",
        "print(moda)"
      ],
      "execution_count": 45,
      "outputs": [
        {
          "output_type": "stream",
          "text": [
            "15.5\n",
            "15.5\n",
            "0      1\n",
            "1      2\n",
            "2      3\n",
            "3      4\n",
            "4      5\n",
            "5      6\n",
            "6      7\n",
            "7      8\n",
            "8      9\n",
            "9     10\n",
            "10    11\n",
            "11    12\n",
            "12    13\n",
            "13    14\n",
            "14    15\n",
            "15    16\n",
            "16    17\n",
            "17    18\n",
            "18    19\n",
            "19    20\n",
            "20    21\n",
            "21    22\n",
            "22    23\n",
            "23    24\n",
            "24    25\n",
            "25    26\n",
            "26    27\n",
            "27    28\n",
            "28    29\n",
            "29    30\n",
            "dtype: int64\n"
          ],
          "name": "stdout"
        }
      ]
    },
    {
      "cell_type": "code",
      "metadata": {
        "id": "O1xqAxBalsVQ",
        "colab_type": "code",
        "colab": {
          "base_uri": "https://localhost:8080/",
          "height": 34
        },
        "outputId": "d8492c87-399d-4d86-890b-12dcfc811795"
      },
      "source": [
        "import csv\n",
        "\n",
        "url = 'https://raw.githubusercontent.com/fabianalejandrogomez/Estadistica_Basica/master/datos.csv'\n",
        "z = 0\n",
        "try:\n",
        "    with open(url, 'rb') as f:\n",
        "\n",
        "      datos = f.readline()\n",
        "      print(datos)\n",
        "\n",
        "\n",
        "except FileNotFoundError:\n",
        "    print(\"No se encontró el archivo de entrada\")\n",
        "except OSError as error:\n",
        "    print(\"ERROR:\",str(error))\n",
        "finally:\n",
        "    try:\n",
        "        f.close()\n",
        "\n",
        "    except NameError:\n",
        "        pass\n"
      ],
      "execution_count": 60,
      "outputs": [
        {
          "output_type": "stream",
          "text": [
            "No se encontró el archivo de entrada\n"
          ],
          "name": "stdout"
        }
      ]
    }
  ]
}