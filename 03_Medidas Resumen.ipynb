{
  "nbformat": 4,
  "nbformat_minor": 0,
  "metadata": {
    "colab": {
      "name": "01-Tablas-Variables.ipynb",
      "provenance": [],
      "collapsed_sections": []
    },
    "kernelspec": {
      "name": "python3",
      "display_name": "Python 3"
    }
  },
  "cells": [
    {
      "cell_type": "markdown",
      "metadata": {
        "id": "jeiBg_LTqTpb",
        "colab_type": "text"
      },
      "source": [
        "# Medidas resumen: de posición y de escala. Media, mediana, moda, rango, varianza muestral, cuartiles, distancia intercuartil. Outliers, interpretación y tratamiento"
      ]
    },
    {
      "cell_type": "markdown",
      "metadata": {
        "id": "jyQDV25S5BF-",
        "colab_type": "text"
      },
      "source": [
        "Bibliografia:  WALPOLE /Volumes/PRINCIPAL/UNIVERSO/FABIAN/ESTUDIOS/Universidades/UBA - Maestria en Explotacion de Datos y Descubrimiento del Conocimiento /01-Curso de Nivelacion/Bibliografia/Walpole-Probabilidad_y_Estadistica_para_Ingenieria_y_Ciencias.pdf"
      ]
    },
    {
      "cell_type": "markdown",
      "metadata": {
        "id": "WXnjtJo77FJX",
        "colab_type": "text"
      },
      "source": [
        "Bibliografia: DEVORE \n",
        "/Volumes/PRINCIPAL/UNIVERSO/FABIAN/ESTUDIOS/Universidades/UBA - Maestria en Explotacion de Datos y Descubrimiento del Conocimiento /01-Curso de Nivelacion/Bibliografia/Devore, Jay - Probabilidad y Estadistica para Ingenieria y Ciencias - Septima Edicion.pdf"
      ]
    },
    {
      "cell_type": "markdown",
      "metadata": {
        "id": "L_oYHrsmDcYi",
        "colab_type": "text"
      },
      "source": [
        "### La media\n",
        "Para un conjunto dado de números $x_{1}, x_{2}, . . . , x_{n}$, la medida más conocida y útil del centro es la media o promedio aritmético del conjunto. \n",
        "Como casi siempre se pensará que los números xi constituyen una muestra, a menudo se hará referencia al promedio aritmético como la media muestral\n",
        "\n",
        "${\\displaystyle \\overline x=\\sum _{i=1}^{n}{\\frac {x_{i}}{n}}={\\frac {x_{1}+x_{2}+\\cdots +x_{n}}{n}}}$\n",
        "\n",
        "\n"
      ]
    },
    {
      "cell_type": "code",
      "metadata": {
        "id": "OkshVuueJ6x3",
        "colab_type": "code",
        "colab": {}
      },
      "source": [
        "'''Utilizando Pandas'''\n",
        "\n",
        "import pandas as pd\n",
        "\n",
        "df = pd.read_csv(\"notas.csv\")\n",
        "\n",
        "media = df[\"nota\"].mean()\n",
        "mediana = df[\"nota\"].median()\n",
        "moda = df[\"nota\"].mode()\n",
        "print(\"\"\"\n",
        "    Media: %d\n",
        "    Mediana: %d\n",
        "    Moda: %d\n",
        "\"\"\" % (media,mediana,moda))"
      ],
      "execution_count": null,
      "outputs": []
    }
  ]
}